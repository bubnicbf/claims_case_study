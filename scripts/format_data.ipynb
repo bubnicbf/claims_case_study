{
 "cells": [
  {
   "cell_type": "markdown",
   "id": "f1287b5c-3a88-425d-9513-4befb2400ace",
   "metadata": {},
   "source": [
    "# Accelerating Data Processing with Parquet Format\n",
    "\n",
    "## Objective\n",
    "I'm running this on an old 2014 Mac mini.  I'm hoping to speed up data loading times by transitioning from Excel to Parquet file format.\n",
    "\n",
    "### Why Parquet?\n",
    "- **Data Integrity**: Maintains data schema and types, ensuring reliable analysis.\n",
    "- **Efficiency**: Compressed file sizes save space and improve performance.\n",
    "- **Speed**: Parquet's columnar storage enables faster read/write.\n"
   ]
  },
  {
   "cell_type": "code",
   "execution_count": 1,
   "id": "7c92a42c-5b7b-4cf5-819e-2ae31bd99e91",
   "metadata": {},
   "outputs": [],
   "source": [
    "import os\n",
    "import pandas as pd\n",
    "import json\n",
    "\n",
    "# Importing excel from ../data/raw\n",
    "excel_path = os.path.join(os.getcwd(), '..', 'data', 'raw', 'case_study_data.xlsx')\n",
    "\n",
    "# Define data types from DQR analysis\n",
    "config_path = os.path.join(os.getcwd(), 'config', 'raw_data_types.json')\n",
    "\n",
    "# Read column types config\n",
    "with open(config_path, 'r') as file:\n",
    "    column_types_config = json.load(file)\n",
    "\n",
    "# Read Excel File\n",
    "xls = pd.ExcelFile(excel_path)\n",
    "for sheet in xls.sheet_names:\n",
    "    # Determine data types for the current sheet\n",
    "    column_types = column_types_config.get(sheet, {})\n",
    "\n",
    "    # Read sheet with specified data types\n",
    "    df = pd.read_excel(xls, sheet_name=sheet, dtype=column_types)\n",
    "\n",
    "    # Path for the Parquet file for the current sheet\n",
    "    parquet_path = os.path.join(os.getcwd(), '..', 'data', 'interim', f'{sheet}_data.parquet')\n",
    "\n",
    "    # Write to Parquet\n",
    "    df.to_parquet(parquet_path)\n"
   ]
  }
 ],
 "metadata": {
  "kernelspec": {
   "display_name": "Python 3 (ipykernel)",
   "language": "python",
   "name": "python3"
  },
  "language_info": {
   "codemirror_mode": {
    "name": "ipython",
    "version": 3
   },
   "file_extension": ".py",
   "mimetype": "text/x-python",
   "name": "python",
   "nbconvert_exporter": "python",
   "pygments_lexer": "ipython3",
   "version": "3.11.6"
  }
 },
 "nbformat": 4,
 "nbformat_minor": 5
}

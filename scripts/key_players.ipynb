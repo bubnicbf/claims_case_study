{
 "cells": [
  {
   "cell_type": "code",
   "execution_count": 1,
   "id": "e73bd198-9ab6-4d87-bd4f-e4df8959b7cb",
   "metadata": {},
   "outputs": [
    {
     "name": "stdout",
     "output_type": "stream",
     "text": [
      "Loaded demographics.parquet\n",
      "Loaded facilities.parquet\n",
      "Loaded claims.parquet\n"
     ]
    }
   ],
   "source": [
    "import os\n",
    "import pandas as pd\n",
    "\n",
    "def load_parquet_files(directory):\n",
    "    \"\"\"\n",
    "    Loads all Parquet files from a specified directory into a dictionary of DataFrames.\n",
    "    \"\"\"\n",
    "    dataframes = {}\n",
    "    if not os.path.exists(directory):\n",
    "        print(f\"Directory not found: {directory}\")\n",
    "        return dataframes\n",
    "\n",
    "    for filename in os.listdir(directory):\n",
    "        if filename.endswith('.parquet'):\n",
    "            file_path = os.path.join(directory, filename)\n",
    "            try:\n",
    "                df = pd.read_parquet(file_path)\n",
    "                dataframes[os.path.splitext(filename)[0]] = df\n",
    "                print(f\"Loaded {filename}\")\n",
    "            except Exception as e:\n",
    "                print(f\"Failed to load {filename}: {e}\")\n",
    "    \n",
    "    return dataframes\n",
    "\n",
    "# Standardized data prior to running analysis\n",
    "stndz_dir = os.path.join(os.getcwd(), '..', 'data', 'processed')\n",
    "\n",
    "# Load Parquet files into dataframes dictionary\n",
    "dataframes = load_parquet_files(stndz_dir)\n"
   ]
  },
  {
   "cell_type": "code",
   "execution_count": 2,
   "id": "bbcc7e4d-0903-4e8d-914d-93dfc6c27b2c",
   "metadata": {},
   "outputs": [
    {
     "name": "stdout",
     "output_type": "stream",
     "text": [
      "specialty\n",
      "ANESTHESIOLOGY       [LUTHERAN HOSPITAL, FAIRVIEW HOSPITAL, ST VINC...\n",
      "INTERNAL MEDICINE    [LUTHERAN HOSPITAL, FAIRVIEW HOSPITAL, ST VINC...\n",
      "UROLOGY              [LUTHERAN HOSPITAL, FAIRVIEW HOSPITAL, THE CLE...\n",
      "Name: organization_name, dtype: object\n"
     ]
    }
   ],
   "source": [
    "# Merge claims and demographics\n",
    "claims = dataframes['claims']\n",
    "demographics = dataframes['demographics']\n",
    "facilities = dataframes['facilities']\n",
    "\n",
    "# Join\n",
    "joined_df = pd.merge(claims, demographics, left_on='clinician_npi', right_on='npi')\n",
    "joined_df = pd.merge(joined_df, facilities, left_on='facility_npi', right_on='npi')  # Corrected to merge with joined_df\n",
    "\n",
    "# Filter\n",
    "specialties = ['INTERNAL MEDICINE', 'UROLOGY', 'ANESTHESIOLOGY']\n",
    "filtered_df = joined_df[joined_df['specialty'].isin(specialties)]\n",
    "\n",
    "# Print unique organization names for each specialty\n",
    "print(filtered_df.groupby('specialty')['organization_name'].unique())\n"
   ]
  }
 ],
 "metadata": {
  "kernelspec": {
   "display_name": "Python 3 (ipykernel)",
   "language": "python",
   "name": "python3"
  },
  "language_info": {
   "codemirror_mode": {
    "name": "ipython",
    "version": 3
   },
   "file_extension": ".py",
   "mimetype": "text/x-python",
   "name": "python",
   "nbconvert_exporter": "python",
   "pygments_lexer": "ipython3",
   "version": "3.11.6"
  }
 },
 "nbformat": 4,
 "nbformat_minor": 5
}
